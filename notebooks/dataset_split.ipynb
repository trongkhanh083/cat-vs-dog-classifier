{
 "cells": [
  {
   "cell_type": "code",
   "execution_count": 2,
   "id": "b4a0dc31-33b5-4432-b592-8c5e819deb34",
   "metadata": {},
   "outputs": [],
   "source": [
    "import os\n",
    "import shutil\n",
    "import numpy as np\n",
    "from sklearn.model_selection import train_test_split"
   ]
  },
  {
   "cell_type": "code",
   "execution_count": null,
   "id": "ebb9e8b9-492b-4fab-9283-7b2159f89544",
   "metadata": {},
   "outputs": [],
   "source": [
    "# Configuration\n",
    "original_dir = 'raw'\n",
    "output_dir = 'data'\n",
    "random_seed = 42"
   ]
  },
  {
   "cell_type": "code",
   "execution_count": 4,
   "id": "bbc60096-5df7-4de1-9975-3978ecdb0ce9",
   "metadata": {},
   "outputs": [
    {
     "name": "stdout",
     "output_type": "stream",
     "text": [
      "Create directory: data/train/cat\n",
      "Create directory: data/train/dog\n",
      "Create directory: data/val/cat\n",
      "Create directory: data/val/dog\n",
      "Create directory: data/test/cat\n",
      "Create directory: data/test/dog\n"
     ]
    }
   ],
   "source": [
    "# Create output directories\n",
    "for split in ['train', 'val', 'test']:\n",
    "    for class_name in ['cat', 'dog']:\n",
    "        os.makedirs(os.path.join(output_dir, split, class_name), exist_ok=True)\n",
    "        print(f\"Create directory: {output_dir}/{split}/{class_name}\")"
   ]
  },
  {
   "cell_type": "code",
   "execution_count": 5,
   "id": "13684224-abb4-4050-9f0e-eda704b095f6",
   "metadata": {},
   "outputs": [],
   "source": [
    "# Split train/val/test 80/10/10\n",
    "def split_class(class_name):\n",
    "    class_path = os.path.join(original_dir, class_name)\n",
    "\n",
    "    # Get all image files\n",
    "    images = [f for f in os.listdir(class_path) if f.lower().endswith(('.png', '.jpg', '.jpeg'))]\n",
    "    print(f\"\\nFound {len(images)} {class_name} images\")\n",
    "\n",
    "    # Split into 80/10/10\n",
    "    train, test = train_test_split(images, test_size=0.2, random_state=random_seed)\n",
    "    val, test = train_test_split(test, test_size=0.5, random_state=random_seed)\n",
    "\n",
    "    # Helper function to copy files\n",
    "    def copy_files(files, split_name):\n",
    "        for f in files:\n",
    "            src = os.path.join(class_path, f)\n",
    "            dst = os.path.join(output_dir, split_name, class_name, f)\n",
    "            shutil.copy2(src, dst)\n",
    "\n",
    "    copy_files(train, 'train')\n",
    "    copy_files(val, 'val')\n",
    "    copy_files(test, 'test')\n",
    "\n",
    "    print(f\"Split {class_name} images:\")\n",
    "    print(f\" Training {len(train)}\")\n",
    "    print(f\" Validation {len(val)}\")\n",
    "    print(f\" Test {len(test)}\")    "
   ]
  },
  {
   "cell_type": "code",
   "execution_count": 6,
   "id": "d13a6392-b680-41bb-892c-2f8fc9afaccb",
   "metadata": {},
   "outputs": [
    {
     "name": "stdout",
     "output_type": "stream",
     "text": [
      "\n",
      "Found 500 cat images\n",
      "Split cat images:\n",
      " Training 400\n",
      " Validation 50\n",
      " Test 50\n",
      "\n",
      "Found 500 dog images\n",
      "Split dog images:\n",
      " Training 400\n",
      " Validation 50\n",
      " Test 50\n"
     ]
    }
   ],
   "source": [
    "# Process both class\n",
    "split_class('cat')\n",
    "split_class('dog')"
   ]
  },
  {
   "cell_type": "code",
   "execution_count": 7,
   "id": "9552a34e-e968-4292-832b-0c9822f900d3",
   "metadata": {},
   "outputs": [
    {
     "name": "stdout",
     "output_type": "stream",
     "text": [
      "\n",
      "Final counts:\n",
      "train/cat: 400 images\n",
      "train/dog: 400 images\n",
      "val/cat: 50 images\n",
      "val/dog: 50 images\n",
      "test/cat: 50 images\n",
      "test/dog: 50 images\n"
     ]
    }
   ],
   "source": [
    "# Verification\n",
    "print(f\"\\nFinal counts:\")\n",
    "for split in ['train', 'val', 'test']:\n",
    "    for class_name in ['cat', 'dog']:\n",
    "        count = len(os.listdir(os.path.join(output_dir, split, class_name)))\n",
    "        print(f\"{split}/{class_name}: {count} images\")"
   ]
  }
 ],
 "metadata": {
  "kernelspec": {
   "display_name": "Python 3 (ipykernel)",
   "language": "python",
   "name": "python3"
  },
  "language_info": {
   "codemirror_mode": {
    "name": "ipython",
    "version": 3
   },
   "file_extension": ".py",
   "mimetype": "text/x-python",
   "name": "python",
   "nbconvert_exporter": "python",
   "pygments_lexer": "ipython3",
   "version": "3.10.16"
  }
 },
 "nbformat": 4,
 "nbformat_minor": 5
}
